{
 "cells": [
  {
   "cell_type": "code",
   "execution_count": 1,
   "metadata": {},
   "outputs": [
    {
     "name": "stderr",
     "output_type": "stream",
     "text": [
      "C:\\Anaconda3\\lib\\site-packages\\h5py\\__init__.py:36: FutureWarning: Conversion of the second argument of issubdtype from `float` to `np.floating` is deprecated. In future, it will be treated as `np.float64 == np.dtype(float).type`.\n",
      "  from ._conv import register_converters as _register_converters\n"
     ]
    }
   ],
   "source": [
    "import tensorflow as tf\n",
    "config = tf.ConfigProto()\n",
    "config.gpu_options.allow_growth = True\n",
    "session = tf.Session(config=config)"
   ]
  },
  {
   "cell_type": "code",
   "execution_count": 2,
   "metadata": {},
   "outputs": [
    {
     "name": "stderr",
     "output_type": "stream",
     "text": [
      "Using TensorFlow backend.\n"
     ]
    }
   ],
   "source": [
    "import numpy as np\n",
    "import keras.utils.np_utils as kutils\n",
    "from sklearn.model_selection import train_test_split\n",
    "import keras.callbacks as callbacks\n",
    "from keras.preprocessing.image import ImageDataGenerator\n",
    "from keras.callbacks import LearningRateScheduler, ModelCheckpoint\n",
    "from keras.utils import plot_model\n",
    "from keras.optimizers import SGD"
   ]
  },
  {
   "cell_type": "code",
   "execution_count": 3,
   "metadata": {},
   "outputs": [],
   "source": [
    "num_classes = 4\n",
    "\n",
    "num_reps = 10"
   ]
  },
  {
   "cell_type": "code",
   "execution_count": 4,
   "metadata": {},
   "outputs": [],
   "source": [
    "import random\n",
    "random.seed(123)\n",
    "import os"
   ]
  },
  {
   "cell_type": "code",
   "execution_count": 5,
   "metadata": {},
   "outputs": [],
   "source": [
    "#Load the data.py\n",
    "airplane = np.load('airplane.npy')\n",
    "axe = np.load('axe.npy')\n",
    "bed = np.load('bed.npy')\n",
    "bicycle = np.load('bicycle.npy')\n",
    "butterfly = np.load('butterfly.npy')\n",
    "envelope = np.load('envelope.npy')\n",
    "knife = np.load('knife.npy')\n",
    "square = np.load('square.npy')\n",
    "star = np.load('star.npy')\n",
    "donut = np.load('donut.npy')\n",
    "classes = [airplane, axe, bed, bicycle, butterfly, envelope, knife, square, star, donut]"
   ]
  },
  {
   "cell_type": "code",
   "execution_count": 6,
   "metadata": {},
   "outputs": [],
   "source": [
    "batch_size = 128\n",
    "epochs = 12"
   ]
  },
  {
   "cell_type": "code",
   "execution_count": 7,
   "metadata": {},
   "outputs": [],
   "source": [
    "import keras\n",
    "from keras.models import Sequential,Input,Model\n",
    "from keras.layers import Dense, Dropout, Flatten\n",
    "from keras.layers import Conv2D, MaxPooling2D\n",
    "from keras.layers.normalization import BatchNormalization\n",
    "from keras.layers.advanced_activations import LeakyReLU"
   ]
  },
  {
   "cell_type": "code",
   "execution_count": 8,
   "metadata": {},
   "outputs": [],
   "source": [
    "model = Sequential()\n",
    "model.add(Conv2D(32, kernel_size=(3, 3),activation='linear',input_shape=(28,28,1),padding='same'))\n",
    "model.add(LeakyReLU(alpha=0.1))\n",
    "model.add(MaxPooling2D((2, 2),padding='same'))\n",
    "model.add(Conv2D(64, (3, 3), activation='linear',padding='same'))\n",
    "model.add(LeakyReLU(alpha=0.1))\n",
    "model.add(MaxPooling2D(pool_size=(2, 2),padding='same'))\n",
    "model.add(Conv2D(128, (3, 3), activation='linear',padding='same'))\n",
    "model.add(LeakyReLU(alpha=0.1))                  \n",
    "model.add(MaxPooling2D(pool_size=(2, 2),padding='same'))\n",
    "model.add(Flatten())\n",
    "model.add(Dense(128, activation='linear'))\n",
    "model.add(LeakyReLU(alpha=0.1))                  \n",
    "model.add(Dense(num_classes, activation='softmax'))"
   ]
  },
  {
   "cell_type": "code",
   "execution_count": 9,
   "metadata": {},
   "outputs": [],
   "source": [
    "callbacks = [ModelCheckpoint('weights',\n",
    "                             monitor='val_acc',\n",
    "                             verbose=1,\n",
    "                             save_best_only=True,\n",
    "                            mode='auto')\n",
    "            ]\n",
    "model.compile(loss=\"categorical_crossentropy\", optimizer=keras.optimizers.Adam(), metrics=[\"acc\"])"
   ]
  },
  {
   "cell_type": "raw",
   "metadata": {},
   "source": [
    "random_classes = sorted(random.sample(range(0, 9), num_classes))\n",
    "for i,j in enumerate(random_classes):\n",
    "    random_classes[i] = np.c_[classes[j], np.ones(classes[j].shape[0])*i]\n",
    "Data = np.concatenate(tuple(random_classes),axis=0)\n",
    "X = Data[:,0:784]\n",
    "Y = Data[:,784]\n",
    "del Data"
   ]
  },
  {
   "cell_type": "raw",
   "metadata": {},
   "source": [
    "X_train, X_test, Y_train, Y_test = train_test_split(X,Y, test_size=0.2, random_state=42)\n",
    "del X, Y\n",
    "X_train = X_train.reshape(-1, 28,28, 1)\n",
    "X_test = X_test.reshape(-1,28,28,1)\n",
    "X_train = X_train.astype('float32')\n",
    "X_test = X_test.astype('float32')\n",
    "X_train = X_train / 255.\n",
    "X_test = X_test / 255.\n",
    "y_train = kutils.to_categorical(Y_train)\n",
    "y_test = kutils.to_categorical(Y_test)\n",
    "X_train,X_valid,y_train,y_valid = train_test_split(X_train, y_train, test_size=0.1, random_state=13)"
   ]
  },
  {
   "cell_type": "raw",
   "metadata": {},
   "source": [
    "model.fit(X_train, y_train, batch_size = batch_size, epochs=epochs,\n",
    "                   callbacks=callbacks,\n",
    "                   validation_data=(X_valid, y_valid))"
   ]
  },
  {
   "cell_type": "raw",
   "metadata": {},
   "source": [
    "i = 1\n",
    "test_eval[i] = model.evaluate(X_test, y_test, verbose=0)\n",
    "print('Test loss:', test_eval[i][0])\n",
    "print('Test accuracy:', test_eval[i][1])"
   ]
  },
  {
   "cell_type": "code",
   "execution_count": null,
   "metadata": {
    "scrolled": true
   },
   "outputs": [
    {
     "name": "stdout",
     "output_type": "stream",
     "text": [
      "Train on 412562 samples, validate on 45841 samples\n",
      "Epoch 1/12\n",
      "412562/412562 [==============================] - 35s 85us/step - loss: 0.0757 - acc: 0.9761 - val_loss: 0.0611 - val_acc: 0.9791\n",
      "\n",
      "Epoch 00001: val_acc did not improve\n",
      "Epoch 2/12\n",
      "412562/412562 [==============================] - 39s 95us/step - loss: 0.0480 - acc: 0.9837 - val_loss: 0.0572 - val_acc: 0.9801\n",
      "\n",
      "Epoch 00002: val_acc did not improve\n",
      "Epoch 3/12\n",
      "412562/412562 [==============================] - 35s 85us/step - loss: 0.0375 - acc: 0.9868 - val_loss: 0.0620 - val_acc: 0.9796\n",
      "\n",
      "Epoch 00003: val_acc did not improve\n",
      "Epoch 4/12\n",
      " 98560/412562 [======>.......................] - ETA: 25s - loss: 0.0257 - acc: 0.9910"
     ]
    }
   ],
   "source": [
    "test_eval = [None]*num_reps\n",
    "used_classes = [None]*num_reps\n",
    "\n",
    "for r in range(num_reps):\n",
    "    random_classes = sorted(random.sample(range(0, 9), num_classes))\n",
    "    used_classes[r] = random_classes\n",
    "    for i,j in enumerate(random_classes):\n",
    "        random_classes[i] = np.c_[classes[j], np.ones(classes[j].shape[0])*i]\n",
    "    Data = np.concatenate(tuple(random_classes),axis=0)\n",
    "    X = Data[:,0:784]\n",
    "    Y = Data[:,784]\n",
    "    del Data\n",
    "\n",
    "    X_train, X_test, Y_train, Y_test = train_test_split(X,Y, test_size=0.2, random_state=42)\n",
    "    del X, Y\n",
    "    X_train = X_train.reshape(-1, 28,28, 1)\n",
    "    X_test = X_test.reshape(-1,28,28,1)\n",
    "    X_train = X_train.astype('float32')\n",
    "    X_test = X_test.astype('float32')\n",
    "    X_train = X_train / 255.\n",
    "    X_test = X_test / 255.\n",
    "    y_train = kutils.to_categorical(Y_train)\n",
    "    y_test = kutils.to_categorical(Y_test)\n",
    "    X_train,X_valid,y_train,y_valid = train_test_split(X_train, y_train, test_size=0.1, random_state=13)\n",
    "\n",
    "    model.fit(X_train, y_train, batch_size = batch_size, epochs=epochs,\n",
    "                       callbacks=callbacks,\n",
    "                       validation_data=(X_valid, y_valid))\n",
    "\n",
    "    test_eval[r] = model.evaluate(X_test, y_test, verbose=0)\n",
    "    print('Test loss (Loop ', r, '): ', test_eval[r][0])\n",
    "    print('Test accuracy (Loop ', r, '): ', test_eval[r][1])\n",
    "    \n",
    "    os.remove('weights')"
   ]
  },
  {
   "cell_type": "code",
   "execution_count": 38,
   "metadata": {},
   "outputs": [],
   "source": []
  },
  {
   "cell_type": "code",
   "execution_count": null,
   "metadata": {},
   "outputs": [],
   "source": [
    "Loss = np.array([test_eval1[0],test_eval2[0],test_eval3[0]])\n",
    "Accuracy = np.array([test_eval1[1],test_eval2[1],test_eval3[1]])\n",
    "print('Average Test loss:', np.mean(Loss))\n",
    "print('Average Test accuracy:', np.mean(Accuracy))"
   ]
  }
 ],
 "metadata": {
  "kernelspec": {
   "display_name": "Python 3",
   "language": "python",
   "name": "python3"
  },
  "language_info": {
   "codemirror_mode": {
    "name": "ipython",
    "version": 3
   },
   "file_extension": ".py",
   "mimetype": "text/x-python",
   "name": "python",
   "nbconvert_exporter": "python",
   "pygments_lexer": "ipython3",
   "version": "3.6.4"
  }
 },
 "nbformat": 4,
 "nbformat_minor": 2
}
