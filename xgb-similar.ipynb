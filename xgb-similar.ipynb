{
 "cells": [
  {
   "cell_type": "code",
   "execution_count": 1,
   "metadata": {},
   "outputs": [],
   "source": [
    "#######################\n",
    "###Loading Libraries###\n",
    "#######################\n",
    "\n",
    "import numpy as np\n",
    "import math\n",
    "import xgboost as xgb\n"
   ]
  },
  {
   "cell_type": "code",
   "execution_count": 2,
   "metadata": {},
   "outputs": [],
   "source": [
    "######################\n",
    "###Dataset Creation###\n",
    "######################\n",
    "\n",
    "##Loading dataset\n",
    "d1 = np.load('apple.npy')\n",
    "d2 = np.load('basketball.npy')\n",
    "d3 = np.load('circle.npy')\n",
    "d4 = np.load('compass.npy')\n",
    "d5 = np.load('cookie.npy')\n",
    "d6 = np.load('donut.npy')\n",
    "d7 = np.load('potato.npy')\n",
    "d8 = np.load('soccerball.npy')\n",
    "d9 = np.load('watermelon.npy')\n",
    "d0 = np.load('wheel.npy')\n",
    "\n",
    "\n",
    "##Training dataset\n",
    "train = []\n",
    "train_data1 = d1[1:math.floor(d1.shape[0]*0.75)]\n",
    "train_data2 = d2[1:math.floor(d2.shape[0]*0.75)]\n",
    "train_data3 = d3[1:math.floor(d3.shape[0]*0.75)]\n",
    "train_data4 = d4[1:math.floor(d4.shape[0]*0.75)]\n",
    "train_data5 = d5[1:math.floor(d5.shape[0]*0.75)]\n",
    "train_data6 = d6[1:math.floor(d6.shape[0]*0.75)]\n",
    "train_data7 = d7[1:math.floor(d7.shape[0]*0.75)]\n",
    "train_data8 = d8[1:math.floor(d8.shape[0]*0.75)]\n",
    "train_data9 = d9[1:math.floor(d9.shape[0]*0.75)]\n",
    "train_data0 = d0[1:math.floor(d0.shape[0]*0.75)]\n",
    "\n",
    "train = np.append(train_data1,train_data2,axis=0)\n",
    "train = np.append(train,train_data3,axis=0)\n",
    "train = np.append(train,train_data4,axis=0)\n",
    "train = np.append(train,train_data5,axis=0)\n",
    "train = np.append(train,train_data6,axis=0)\n",
    "train = np.append(train,train_data7,axis=0)\n",
    "train = np.append(train,train_data8,axis=0)\n",
    "train = np.append(train,train_data9,axis=0)\n",
    "train = np.append(train,train_data0,axis=0)\n",
    "\n",
    "\n",
    "\n",
    "##Testing dataset\n",
    "test = []\n",
    "test_data1 = d1[math.floor(d1.shape[0]*0.75):d1.shape[0]]\n",
    "test_data2 = d2[math.floor(d2.shape[0]*0.75):d2.shape[0]]\n",
    "test_data3 = d3[math.floor(d3.shape[0]*0.75):d3.shape[0]]\n",
    "test_data4 = d4[math.floor(d4.shape[0]*0.75):d4.shape[0]]\n",
    "test_data5 = d5[math.floor(d5.shape[0]*0.75):d5.shape[0]]\n",
    "test_data6 = d6[math.floor(d6.shape[0]*0.75):d6.shape[0]]\n",
    "test_data7 = d7[math.floor(d7.shape[0]*0.75):d7.shape[0]]\n",
    "test_data8 = d8[math.floor(d8.shape[0]*0.75):d8.shape[0]]\n",
    "test_data9 = d9[math.floor(d9.shape[0]*0.75):d9.shape[0]]\n",
    "test_data0 = d0[math.floor(d0.shape[0]*0.75):d0.shape[0]]\n",
    "\n",
    "test = np.append(test_data1,test_data2,axis=0)\n",
    "test = np.append(test,test_data3,axis=0)\n",
    "test = np.append(test,test_data4,axis=0)\n",
    "test = np.append(test,test_data5,axis=0)\n",
    "test = np.append(test,test_data6,axis=0)\n",
    "test = np.append(test,test_data7,axis=0)\n",
    "test = np.append(test,test_data8,axis=0)\n",
    "test = np.append(test,test_data9,axis=0)\n",
    "test = np.append(test,test_data0,axis=0)\n"
   ]
  },
  {
   "cell_type": "code",
   "execution_count": 3,
   "metadata": {},
   "outputs": [
    {
     "name": "stdout",
     "output_type": "stream",
     "text": [
      "there are total of 1143927 number of training datapoints\n",
      "there are total of 381318 number of testing datapoints\n"
     ]
    }
   ],
   "source": [
    "#####################\n",
    "###Target Creation###\n",
    "#####################\n",
    "\n",
    "train_target = []\n",
    "train_target.append([1]*(math.floor(d1.shape[0]*0.75)-1))\n",
    "train_target.append([2]*(math.floor(d2.shape[0]*0.75)-1))\n",
    "train_target.append([3]*(math.floor(d3.shape[0]*0.75)-1))\n",
    "train_target.append([4]*(math.floor(d4.shape[0]*0.75)-1))\n",
    "train_target.append([5]*(math.floor(d5.shape[0]*0.75)-1))\n",
    "train_target.append([6]*(math.floor(d6.shape[0]*0.75)-1))\n",
    "train_target.append([7]*(math.floor(d7.shape[0]*0.75)-1))\n",
    "train_target.append([8]*(math.floor(d8.shape[0]*0.75)-1))\n",
    "train_target.append([9]*(math.floor(d9.shape[0]*0.75)-1))\n",
    "train_target.append([0]*(math.floor(d0.shape[0]*0.75)-1))\n",
    "\n",
    "\n",
    "train_target = [item for items in train_target for item in items]    \n",
    "train_target =  np.asarray(train_target)\n",
    "\n",
    "test_target = []\n",
    "test_target.append([1]*(math.ceil(d1.shape[0]*0.25)))\n",
    "test_target.append([2]*(math.ceil(d2.shape[0]*0.25)))\n",
    "test_target.append([3]*(math.ceil(d3.shape[0]*0.25)))\n",
    "test_target.append([4]*(math.ceil(d4.shape[0]*0.25)))\n",
    "test_target.append([5]*(math.ceil(d5.shape[0]*0.25)))\n",
    "test_target.append([6]*(math.ceil(d6.shape[0]*0.25)))\n",
    "test_target.append([7]*(math.ceil(d7.shape[0]*0.25)))\n",
    "test_target.append([8]*(math.ceil(d8.shape[0]*0.25)))\n",
    "test_target.append([9]*(math.ceil(d9.shape[0]*0.25)))\n",
    "test_target.append([0]*(math.ceil(d0.shape[0]*0.25)))\n",
    "\n",
    "test_target = [item for items in test_target for item in items]    \n",
    "test_target =  np.asarray(test_target)\n",
    "\n",
    "print(\"there are total of\",train_target.shape[0],\"number of training datapoints\")\n",
    "print(\"there are total of\",test_target.shape[0],\"number of testing datapoints\")\n"
   ]
  },
  {
   "cell_type": "code",
   "execution_count": 4,
   "metadata": {},
   "outputs": [],
   "source": [
    "###################\n",
    "###Preprocessing###\n",
    "###################\n",
    "\n",
    "##Normalizing all the vectors before calculations\n",
    "train = train/255\n",
    "test = test/255\n"
   ]
  },
  {
   "cell_type": "code",
   "execution_count": 9,
   "metadata": {},
   "outputs": [
    {
     "name": "stdout",
     "output_type": "stream",
     "text": [
      "the total explained cariance used is 0.759787987066\n"
     ]
    }
   ],
   "source": [
    "######################\n",
    "###Analysis for PCA###\n",
    "######################\n",
    "\n",
    "from sklearn.decomposition import PCA\n",
    "import matplotlib.pyplot as plt\n",
    "\n",
    "##Fitting Full PCA\n",
    "pca = PCA()\n",
    "component = pca.fit(train)\n",
    "\n",
    "##\n",
    "plt.plot(pca.explained_variance_ratio_)\n",
    "\n",
    "print(\"the total explained cariance used is\",sum(pca.explained_variance_ratio_[0:100]))"
   ]
  },
  {
   "cell_type": "code",
   "execution_count": 18,
   "metadata": {},
   "outputs": [
    {
     "data": {
      "text/plain": [
       "182"
      ]
     },
     "execution_count": 18,
     "metadata": {},
     "output_type": "execute_result"
    },
    {
     "data": {
      "image/png": "[encoded data removed]",
      "text/plain": [
       "<matplotlib.figure.Figure at 0x1a3a745a20>"
      ]
     },
     "metadata": {},
     "output_type": "display_data"
    }
   ],
   "source": [
    "%matplotlib inline\n",
    "##PCA explained variance ratio\n",
    "plt.plot(pca.explained_variance_ratio_)\n",
    "\n",
    "##Number of feature that is higher than 0.001\n",
    "sum(pca.explained_variance_ratio_ > 0.001)"
   ]
  },
  {
   "cell_type": "code",
   "execution_count": 21,
   "metadata": {},
   "outputs": [
    {
     "data": {
      "text/plain": [
       "0.88687327377949032"
      ]
     },
     "execution_count": 21,
     "metadata": {},
     "output_type": "execute_result"
    }
   ],
   "source": [
    "sum(pca.explained_variance_ratio_ [0:200])"
   ]
  },
  {
   "cell_type": "code",
   "execution_count": 6,
   "metadata": {},
   "outputs": [],
   "source": [
    "from sklearn.decomposition import PCA\n",
    "##Fitting pca with 182 features\n",
    "pca = PCA(n_components=200)\n",
    "train_pca = pca.fit_transform(train)\n",
    "test_pca = pca.transform(test)"
   ]
  },
  {
   "cell_type": "code",
   "execution_count": 7,
   "metadata": {},
   "outputs": [
    {
     "data": {
      "text/plain": [
       "XGBClassifier(base_score=0.5, booster='gbtree', colsample_bylevel=1,\n",
       "       colsample_bytree=1, gamma=0, learning_rate=0.1, max_delta_step=0,\n",
       "       max_depth=3, min_child_weight=1, missing=None, n_estimators=100,\n",
       "       n_jobs=-1, nthread=None, objective='multi:softprob', random_state=0,\n",
       "       reg_alpha=0, reg_lambda=1, scale_pos_weight=1, seed=None,\n",
       "       silent=True, subsample=1)"
      ]
     },
     "execution_count": 7,
     "metadata": {},
     "output_type": "execute_result"
    }
   ],
   "source": [
    "###################\n",
    "###XGBOOST MODEL###\n",
    "###################\n",
    "\n",
    "from xgboost import XGBClassifier\n",
    "from sklearn.metrics import accuracy_score\n",
    "\n",
    "#model = XGBClassifier()\n",
    "#model.fit(train,train_target)\n",
    "\n",
    "model2 = XGBClassifier(n_jobs=-1)\n",
    "model2.fit(train_pca,train_target)"
   ]
  },
  {
   "cell_type": "code",
   "execution_count": 8,
   "metadata": {},
   "outputs": [],
   "source": [
    "#pred_train = model.predict(train)\n",
    "pred2_train = model2.predict(train_pca)\n",
    "\n",
    "#pred_test = model.predict(test)\n",
    "pred2_test = model2.predict(pca.transform(test))"
   ]
  },
  {
   "cell_type": "code",
   "execution_count": 9,
   "metadata": {},
   "outputs": [
    {
     "name": "stdout",
     "output_type": "stream",
     "text": [
      "Accuracy for Different Dataset\n",
      "Training Accuracy\n",
      "0.624079158897\n",
      "Testing Accuracy\n",
      "0.62066306862\n"
     ]
    }
   ],
   "source": [
    "print(\"Accuracy for Different Dataset\")\n",
    "print(\"Training Accuracy\")\n",
    "print(sum(pred2_train == train_target)/len(pred2_train))\n",
    "print(\"Testing Accuracy\")\n",
    "print(sum(pred2_test == test_target)/len(pred2_test))"
   ]
  },
  {
   "cell_type": "code",
   "execution_count": null,
   "metadata": {
    "collapsed": true
   },
   "outputs": [],
   "source": [
    "##Save Model\n",
    "import pickle\n",
    "\n",
    "pickle.dump(model,open(\"model1.pickle.dat\", \"wb\"))\n",
    "pickle.dump(model2,open(\"model2.pickle.dat\", \"wb\"))\n",
    "\n"
   ]
  },
  {
   "cell_type": "code",
   "execution_count": null,
   "metadata": {
    "collapsed": true
   },
   "outputs": [],
   "source": [
    "##Load Model\n",
    "#loaded_model = pickle.load(open(\"model1.pickle.dat\", \"rb\"))\n",
    "#loaded_model = pickle.load(open(\"model2.pickle.dat\", \"rb\"))\n"
   ]
  },
  {
   "cell_type": "code",
   "execution_count": null,
   "metadata": {
    "collapsed": true
   },
   "outputs": [],
   "source": [
    "np.savetxt(\"pred_train\",pred_train, fmt='%.18e', delimiter=' ', newline='\\n', header='', footer='', comments='# ')\n",
    "np.savetxt(\"pred2_train\",pred2_train, fmt='%.18e', delimiter=' ', newline='\\n', header='', footer='', comments='# ')\n",
    "np.savetxt(\"pred_test\",pred_test, fmt='%.18e', delimiter=' ', newline='\\n', header='', footer='', comments='# ')\n",
    "np.savetxt(\"pred2_test\",pred2_test, fmt='%.18e', delimiter=' ', newline='\\n', header='', footer='', comments='# ')\n"
   ]
  },
  {
   "cell_type": "code",
   "execution_count": 29,
   "metadata": {
    "collapsed": true
   },
   "outputs": [],
   "source": [
    "np.savetxt(\"train_target\",train_target, fmt='%.18e', delimiter=' ', newline='\\n', header='', footer='', comments='# ')\n",
    "np.savetxt(\"test_target\",test_target, fmt='%.18e', delimiter=' ', newline='\\n', header='', footer='', comments='# ')"
   ]
  }
 ],
 "metadata": {
  "kernelspec": {
   "display_name": "Python 3",
   "language": "python",
   "name": "python3"
  },
  "language_info": {
   "codemirror_mode": {
    "name": "ipython",
    "version": 3
   },
   "file_extension": ".py",
   "mimetype": "text/x-python",
   "name": "python",
   "nbconvert_exporter": "python",
   "pygments_lexer": "ipython3",
   "version": "3.6.4"
  }
 },
 "nbformat": 4,
 "nbformat_minor": 2
}
