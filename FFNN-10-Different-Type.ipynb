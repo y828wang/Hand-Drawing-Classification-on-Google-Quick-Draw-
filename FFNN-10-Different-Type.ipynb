{
 "cells": [
  {
   "cell_type": "code",
   "execution_count": 1,
   "metadata": {},
   "outputs": [
    {
     "name": "stderr",
     "output_type": "stream",
     "text": [
      "C:\\Users\\y884wang\\Anaconda3\\lib\\site-packages\\h5py\\__init__.py:36: FutureWarning: Conversion of the second argument of issubdtype from `float` to `np.floating` is deprecated. In future, it will be treated as `np.float64 == np.dtype(float).type`.\n",
      "  from ._conv import register_converters as _register_converters\n",
      "Using TensorFlow backend.\n"
     ]
    }
   ],
   "source": [
    "import numpy as np\n",
    "import keras.utils.np_utils as kutils\n",
    "from sklearn.model_selection import train_test_split\n",
    "import keras.callbacks as callbacks\n",
    "from keras.preprocessing.image import ImageDataGenerator\n",
    "from keras.callbacks import LearningRateScheduler, ModelCheckpoint\n",
    "from keras.utils import plot_model\n",
    "from keras.optimizers import SGD"
   ]
  },
  {
   "cell_type": "code",
   "execution_count": 2,
   "metadata": {},
   "outputs": [],
   "source": [
    "airplane = np.load('airplane.npy')\n",
    "axe = np.load('axe.npy')\n",
    "bed = np.load('bed.npy')\n",
    "bicycle = np.load('bicycle.npy')\n",
    "butterfly = np.load('butterfly.npy')\n",
    "envelope = np.load('envelope.npy')\n",
    "knife = np.load('knife.npy')\n",
    "square = np.load('square.npy')\n",
    "star = np.load('star.npy')\n",
    "donut = np.load('donut.npy')"
   ]
  },
  {
   "cell_type": "code",
   "execution_count": 3,
   "metadata": {},
   "outputs": [],
   "source": [
    "airplane = np.c_[airplane, np.zeros(airplane.shape[0])]\n",
    "axe = np.c_[axe, np.ones(axe.shape[0])]\n",
    "bed = np.c_[bed, np.ones(bed.shape[0])*2]\n",
    "bicycle  = np.c_[bicycle , np.ones(bicycle .shape[0])*3]\n",
    "butterfly = np.c_[butterfly, np.ones(butterfly.shape[0])*4]\n",
    "envelope  = np.c_[envelope, np.ones(envelope.shape[0])*5]\n",
    "knife = np.c_[knife, np.ones(knife.shape[0])*6]\n",
    "square = np.c_[square, np.ones(square.shape[0])*7]\n",
    "star = np.c_[star, np.ones(star.shape[0])*8]\n",
    "donut = np.c_[donut, np.ones(donut.shape[0])*9]"
   ]
  },
  {
   "cell_type": "code",
   "execution_count": 4,
   "metadata": {},
   "outputs": [],
   "source": [
    "Data = np.concatenate((airplane, axe,bed,bicycle ,butterfly,envelope,knife,square,star,donut),axis=0)\n",
    "del airplane,axe,bed,bicycle ,butterfly,envelope,knife,square,star,donut\n",
    "X = Data[:,0:784]\n",
    "Y = Data[:,784]\n",
    "del Data"
   ]
  },
  {
   "cell_type": "code",
   "execution_count": 5,
   "metadata": {},
   "outputs": [],
   "source": [
    "X_train, X_test, Y_train, Y_test = train_test_split(X,Y, test_size=0.2, random_state=42)"
   ]
  },
  {
   "cell_type": "code",
   "execution_count": 6,
   "metadata": {},
   "outputs": [],
   "source": [
    "del X, Y"
   ]
  },
  {
   "cell_type": "code",
   "execution_count": 7,
   "metadata": {},
   "outputs": [],
   "source": [
    "X_train = X_train.astype('float32')\n",
    "X_test = X_test.astype('float32')\n",
    "X_train = X_train / 255.\n",
    "X_test = X_test / 255."
   ]
  },
  {
   "cell_type": "code",
   "execution_count": 8,
   "metadata": {},
   "outputs": [],
   "source": [
    "y_train = kutils.to_categorical(Y_train)\n",
    "y_test = kutils.to_categorical(Y_test)"
   ]
  },
  {
   "cell_type": "code",
   "execution_count": 9,
   "metadata": {},
   "outputs": [],
   "source": [
    "X_train,X_valid,y_train,y_valid = train_test_split(X_train, y_train, test_size=0.1, random_state=13)"
   ]
  },
  {
   "cell_type": "code",
   "execution_count": 10,
   "metadata": {},
   "outputs": [
    {
     "data": {
      "text/plain": [
       "(107614, 784)"
      ]
     },
     "execution_count": 10,
     "metadata": {},
     "output_type": "execute_result"
    }
   ],
   "source": [
    "X_valid.shape"
   ]
  },
  {
   "cell_type": "code",
   "execution_count": 11,
   "metadata": {},
   "outputs": [
    {
     "data": {
      "text/plain": [
       "(968519, 10)"
      ]
     },
     "execution_count": 11,
     "metadata": {},
     "output_type": "execute_result"
    }
   ],
   "source": [
    "y_train.shape"
   ]
  },
  {
   "cell_type": "code",
   "execution_count": 15,
   "metadata": {},
   "outputs": [],
   "source": [
    "import keras\n",
    "from keras.models import Sequential,Input,Model\n",
    "from keras.layers import Dense, Dropout, Flatten\n",
    "from keras.layers import Conv2D, MaxPooling2D\n",
    "from keras.layers.normalization import BatchNormalization\n",
    "from keras.layers.advanced_activations import LeakyReLU\n",
    "from keras.layers import Activation"
   ]
  },
  {
   "cell_type": "code",
   "execution_count": 16,
   "metadata": {},
   "outputs": [],
   "source": [
    "batch_size = 128\n",
    "epochs = 50\n",
    "num_classes = 10"
   ]
  },
  {
   "cell_type": "code",
   "execution_count": 17,
   "metadata": {},
   "outputs": [],
   "source": [
    "model = Sequential()\n",
    "model.add(Dense(784, input_dim=784, activation=\"linear\", kernel_initializer=\"uniform\"))\n",
    "model.add(LeakyReLU(alpha=0.1))\n",
    "model.add(Dense(784, activation=\"linear\", kernel_initializer=\"uniform\"))\n",
    "model.add(LeakyReLU(alpha=0.1))\n",
    "model.add(Dense(784, activation=\"linear\", kernel_initializer=\"uniform\"))\n",
    "model.add(LeakyReLU(alpha=0.1))\n",
    "model.add(Dense(10))\n",
    "model.add(Activation(\"softmax\"))"
   ]
  },
  {
   "cell_type": "code",
   "execution_count": 18,
   "metadata": {},
   "outputs": [
    {
     "name": "stdout",
     "output_type": "stream",
     "text": [
      "Train on 968519 samples, validate on 107614 samples\n",
      "Epoch 1/50\n",
      "968519/968519 [==============================] - 251s 259us/step - loss: 0.2791 - acc: 0.9182 - val_loss: 0.2205 - val_acc: 0.9356\n",
      "\n",
      "Epoch 00001: val_acc improved from -inf to 0.93558, saving model to weights\n",
      "Epoch 2/50\n",
      "968519/968519 [==============================] - 251s 259us/step - loss: 0.2036 - acc: 0.9399 - val_loss: 0.2077 - val_acc: 0.9394\n",
      "\n",
      "Epoch 00002: val_acc improved from 0.93558 to 0.93942, saving model to weights\n",
      "Epoch 3/50\n",
      "968519/968519 [==============================] - 259s 267us/step - loss: 0.1810 - acc: 0.9462 - val_loss: 0.2087 - val_acc: 0.9409\n",
      "\n",
      "Epoch 00003: val_acc improved from 0.93942 to 0.94092, saving model to weights\n",
      "Epoch 4/50\n",
      "968519/968519 [==============================] - 249s 257us/step - loss: 0.1666 - acc: 0.9503 - val_loss: 0.1967 - val_acc: 0.9426\n",
      "\n",
      "Epoch 00004: val_acc improved from 0.94092 to 0.94257, saving model to weights\n",
      "Epoch 5/50\n",
      "968519/968519 [==============================] - 255s 263us/step - loss: 0.1561 - acc: 0.9531 - val_loss: 0.1901 - val_acc: 0.9460\n",
      "\n",
      "Epoch 00005: val_acc improved from 0.94257 to 0.94599, saving model to weights\n",
      "Epoch 6/50\n",
      "968519/968519 [==============================] - 257s 265us/step - loss: 0.1471 - acc: 0.9557 - val_loss: 0.1940 - val_acc: 0.9463\n",
      "\n",
      "Epoch 00006: val_acc improved from 0.94599 to 0.94627, saving model to weights\n",
      "Epoch 7/50\n",
      "968519/968519 [==============================] - 255s 263us/step - loss: 0.1408 - acc: 0.9577 - val_loss: 0.2031 - val_acc: 0.9448\n",
      "\n",
      "Epoch 00007: val_acc did not improve\n",
      "Epoch 8/50\n",
      "968519/968519 [==============================] - 258s 266us/step - loss: 0.1349 - acc: 0.9593 - val_loss: 0.2029 - val_acc: 0.9473\n",
      "\n",
      "Epoch 00008: val_acc improved from 0.94627 to 0.94727, saving model to weights\n",
      "Epoch 9/50\n",
      "968519/968519 [==============================] - 255s 263us/step - loss: 0.1289 - acc: 0.9612 - val_loss: 0.2068 - val_acc: 0.9490\n",
      "\n",
      "Epoch 00009: val_acc improved from 0.94727 to 0.94899, saving model to weights\n",
      "Epoch 10/50\n",
      "968519/968519 [==============================] - 256s 265us/step - loss: 0.1246 - acc: 0.9623 - val_loss: 0.2235 - val_acc: 0.9431\n",
      "\n",
      "Epoch 00010: val_acc did not improve\n",
      "Epoch 11/50\n",
      "968519/968519 [==============================] - 246s 254us/step - loss: 0.1203 - acc: 0.9635 - val_loss: 0.2100 - val_acc: 0.9472\n",
      "\n",
      "Epoch 00011: val_acc did not improve\n",
      "Epoch 12/50\n",
      "968519/968519 [==============================] - 252s 260us/step - loss: 0.1166 - acc: 0.9648 - val_loss: 0.2223 - val_acc: 0.9458\n",
      "\n",
      "Epoch 00012: val_acc did not improve\n",
      "Epoch 13/50\n",
      "968519/968519 [==============================] - 254s 262us/step - loss: 0.1138 - acc: 0.9657 - val_loss: 0.2217 - val_acc: 0.9480\n",
      "\n",
      "Epoch 00013: val_acc did not improve\n",
      "Epoch 14/50\n",
      "968519/968519 [==============================] - 255s 263us/step - loss: 0.1110 - acc: 0.9668 - val_loss: 0.2278 - val_acc: 0.9465\n",
      "\n",
      "Epoch 00014: val_acc did not improve\n",
      "Epoch 15/50\n",
      "968519/968519 [==============================] - 258s 266us/step - loss: 0.1081 - acc: 0.9677 - val_loss: 0.2541 - val_acc: 0.9440\n",
      "\n",
      "Epoch 00015: val_acc did not improve\n",
      "Epoch 16/50\n",
      "968519/968519 [==============================] - 258s 266us/step - loss: 0.1057 - acc: 0.9685 - val_loss: 0.2495 - val_acc: 0.9447\n",
      "\n",
      "Epoch 00016: val_acc did not improve\n",
      "Epoch 17/50\n",
      "968519/968519 [==============================] - 261s 269us/step - loss: 0.1038 - acc: 0.9692 - val_loss: 0.2813 - val_acc: 0.9414\n",
      "\n",
      "Epoch 00017: val_acc did not improve\n",
      "Epoch 18/50\n",
      "968519/968519 [==============================] - 259s 268us/step - loss: 0.1024 - acc: 0.9698 - val_loss: 0.2949 - val_acc: 0.9419\n",
      "\n",
      "Epoch 00018: val_acc did not improve\n",
      "Epoch 19/50\n",
      "968519/968519 [==============================] - 259s 267us/step - loss: 0.1005 - acc: 0.9705 - val_loss: 0.2949 - val_acc: 0.9449\n",
      "\n",
      "Epoch 00019: val_acc did not improve\n",
      "Epoch 20/50\n",
      "968519/968519 [==============================] - 255s 263us/step - loss: 0.0996 - acc: 0.9710 - val_loss: 0.2873 - val_acc: 0.9426\n",
      "\n",
      "Epoch 00020: val_acc did not improve\n",
      "Epoch 21/50\n",
      "968519/968519 [==============================] - 253s 261us/step - loss: 0.0984 - acc: 0.9717 - val_loss: 0.2721 - val_acc: 0.9448\n",
      "\n",
      "Epoch 00021: val_acc did not improve\n",
      "Epoch 22/50\n",
      "968519/968519 [==============================] - 254s 262us/step - loss: 0.0978 - acc: 0.9720 - val_loss: 0.3031 - val_acc: 0.9417\n",
      "\n",
      "Epoch 00022: val_acc did not improve\n",
      "Epoch 23/50\n",
      "968519/968519 [==============================] - 258s 267us/step - loss: 0.0953 - acc: 0.9730 - val_loss: 0.2997 - val_acc: 0.9449\n",
      "\n",
      "Epoch 00023: val_acc did not improve\n",
      "Epoch 24/50\n",
      "968519/968519 [==============================] - 256s 265us/step - loss: 0.0956 - acc: 0.9731 - val_loss: 0.3578 - val_acc: 0.9422\n",
      "\n",
      "Epoch 00024: val_acc did not improve\n",
      "Epoch 25/50\n",
      "968519/968519 [==============================] - 256s 265us/step - loss: 0.0948 - acc: 0.9734 - val_loss: 0.3275 - val_acc: 0.9448\n",
      "\n",
      "Epoch 00025: val_acc did not improve\n",
      "Epoch 26/50\n",
      "968519/968519 [==============================] - 253s 262us/step - loss: 0.0946 - acc: 0.9738 - val_loss: 0.3299 - val_acc: 0.9434\n",
      "\n",
      "Epoch 00026: val_acc did not improve\n",
      "Epoch 27/50\n",
      "968519/968519 [==============================] - 258s 266us/step - loss: 0.0939 - acc: 0.9742 - val_loss: 0.3707 - val_acc: 0.9396\n",
      "\n",
      "Epoch 00027: val_acc did not improve\n",
      "Epoch 28/50\n",
      "968519/968519 [==============================] - 258s 266us/step - loss: 0.0928 - acc: 0.9748 - val_loss: 0.3461 - val_acc: 0.9426\n",
      "\n",
      "Epoch 00028: val_acc did not improve\n",
      "Epoch 29/50\n",
      "968519/968519 [==============================] - 257s 265us/step - loss: 0.0929 - acc: 0.9750 - val_loss: 0.3677 - val_acc: 0.9377\n",
      "\n",
      "Epoch 00029: val_acc did not improve\n",
      "Epoch 30/50\n",
      "968519/968519 [==============================] - 245s 253us/step - loss: 0.0927 - acc: 0.9752 - val_loss: 0.3681 - val_acc: 0.9426\n",
      "\n",
      "Epoch 00030: val_acc did not improve\n",
      "Epoch 31/50\n",
      "968519/968519 [==============================] - 244s 252us/step - loss: 0.0923 - acc: 0.9758 - val_loss: 0.3532 - val_acc: 0.9436\n",
      "\n",
      "Epoch 00031: val_acc did not improve\n",
      "Epoch 32/50\n",
      "968519/968519 [==============================] - 244s 252us/step - loss: 0.0917 - acc: 0.9760 - val_loss: 0.3949 - val_acc: 0.9432\n",
      "\n",
      "Epoch 00032: val_acc did not improve\n",
      "Epoch 33/50\n",
      "968519/968519 [==============================] - 245s 252us/step - loss: 0.0924 - acc: 0.9761 - val_loss: 0.4169 - val_acc: 0.9401\n",
      "\n",
      "Epoch 00033: val_acc did not improve\n",
      "Epoch 34/50\n",
      "968519/968519 [==============================] - 244s 252us/step - loss: 0.0917 - acc: 0.9766 - val_loss: 0.3801 - val_acc: 0.9438\n",
      "\n",
      "Epoch 00034: val_acc did not improve\n",
      "Epoch 35/50\n",
      "968519/968519 [==============================] - 243s 251us/step - loss: 0.0934 - acc: 0.9768 - val_loss: 0.3919 - val_acc: 0.9432\n",
      "\n",
      "Epoch 00035: val_acc did not improve\n",
      "Epoch 36/50\n",
      "968519/968519 [==============================] - 244s 251us/step - loss: 0.0923 - acc: 0.9770 - val_loss: 0.3995 - val_acc: 0.9453\n",
      "\n",
      "Epoch 00036: val_acc did not improve\n",
      "Epoch 37/50\n",
      "968519/968519 [==============================] - 244s 252us/step - loss: 0.0926 - acc: 0.9775 - val_loss: 0.4226 - val_acc: 0.9440\n",
      "\n",
      "Epoch 00037: val_acc did not improve\n",
      "Epoch 38/50\n",
      "968519/968519 [==============================] - 243s 251us/step - loss: 0.0946 - acc: 0.9774 - val_loss: 0.4364 - val_acc: 0.9413\n",
      "\n",
      "Epoch 00038: val_acc did not improve\n",
      "Epoch 39/50\n",
      "968519/968519 [==============================] - 244s 252us/step - loss: 0.0938 - acc: 0.9777 - val_loss: 0.4082 - val_acc: 0.9452\n",
      "\n",
      "Epoch 00039: val_acc did not improve\n",
      "Epoch 40/50\n",
      "968519/968519 [==============================] - 244s 251us/step - loss: 0.0946 - acc: 0.9779 - val_loss: 0.4128 - val_acc: 0.9446\n",
      "\n",
      "Epoch 00040: val_acc did not improve\n",
      "Epoch 41/50\n",
      "968519/968519 [==============================] - 244s 252us/step - loss: 0.0956 - acc: 0.9781 - val_loss: 0.4783 - val_acc: 0.9432\n",
      "\n",
      "Epoch 00041: val_acc did not improve\n",
      "Epoch 42/50\n",
      "968519/968519 [==============================] - 244s 252us/step - loss: 0.0948 - acc: 0.9784 - val_loss: 0.4739 - val_acc: 0.9427\n",
      "\n",
      "Epoch 00042: val_acc did not improve\n",
      "Epoch 43/50\n",
      "968519/968519 [==============================] - 244s 252us/step - loss: 0.0978 - acc: 0.9782 - val_loss: 0.4704 - val_acc: 0.9422\n",
      "\n",
      "Epoch 00043: val_acc did not improve\n",
      "Epoch 44/50\n"
     ]
    },
    {
     "name": "stdout",
     "output_type": "stream",
     "text": [
      "968519/968519 [==============================] - 244s 252us/step - loss: 0.0978 - acc: 0.9785 - val_loss: 0.4642 - val_acc: 0.9434\n",
      "\n",
      "Epoch 00044: val_acc did not improve\n",
      "Epoch 45/50\n",
      "968519/968519 [==============================] - 244s 252us/step - loss: 0.0999 - acc: 0.9787 - val_loss: 0.4400 - val_acc: 0.9438\n",
      "\n",
      "Epoch 00045: val_acc did not improve\n",
      "Epoch 46/50\n",
      "968519/968519 [==============================] - 243s 251us/step - loss: 0.1002 - acc: 0.9790 - val_loss: 0.5069 - val_acc: 0.9428\n",
      "\n",
      "Epoch 00046: val_acc did not improve\n",
      "Epoch 47/50\n",
      "968519/968519 [==============================] - 251s 259us/step - loss: 0.1003 - acc: 0.9790 - val_loss: 0.4911 - val_acc: 0.9433\n",
      "\n",
      "Epoch 00047: val_acc did not improve\n",
      "Epoch 48/50\n",
      "968519/968519 [==============================] - 253s 262us/step - loss: 0.1023 - acc: 0.9792 - val_loss: 0.5093 - val_acc: 0.9426\n",
      "\n",
      "Epoch 00048: val_acc did not improve\n",
      "Epoch 49/50\n",
      "968519/968519 [==============================] - 259s 267us/step - loss: 0.1019 - acc: 0.9793 - val_loss: 0.5047 - val_acc: 0.9418\n",
      "\n",
      "Epoch 00049: val_acc did not improve\n",
      "Epoch 50/50\n",
      "968519/968519 [==============================] - 257s 265us/step - loss: 0.1067 - acc: 0.9792 - val_loss: 0.4913 - val_acc: 0.9439\n",
      "\n",
      "Epoch 00050: val_acc did not improve\n"
     ]
    },
    {
     "data": {
      "text/plain": [
       "<keras.callbacks.History at 0x2770028ceb8>"
      ]
     },
     "execution_count": 18,
     "metadata": {},
     "output_type": "execute_result"
    }
   ],
   "source": [
    "callbacks = [ModelCheckpoint('weights',\n",
    "                             monitor='val_acc',\n",
    "                             verbose=1,\n",
    "                             save_best_only=True,\n",
    "                            mode='auto')\n",
    "            ]\n",
    "model.compile(loss=\"categorical_crossentropy\", optimizer=keras.optimizers.Adam(), metrics=[\"acc\"])\n",
    "model.fit(X_train, y_train, batch_size = batch_size, epochs=epochs,\n",
    "                   callbacks=callbacks,\n",
    "                   validation_data=(X_valid, y_valid))"
   ]
  },
  {
   "cell_type": "code",
   "execution_count": 19,
   "metadata": {},
   "outputs": [
    {
     "name": "stdout",
     "output_type": "stream",
     "text": [
      "Test loss: 0.49725491054716614\n",
      "Test accuracy: 0.9433863377863021\n"
     ]
    }
   ],
   "source": [
    "test_eval = model.evaluate(X_test, y_test, verbose=0)\n",
    "print('Test loss:', test_eval[0])\n",
    "print('Test accuracy:', test_eval[1])"
   ]
  },
  {
   "cell_type": "code",
   "execution_count": null,
   "metadata": {},
   "outputs": [],
   "source": []
  }
 ],
 "metadata": {
  "kernelspec": {
   "display_name": "Python 3",
   "language": "python",
   "name": "python3"
  },
  "language_info": {
   "codemirror_mode": {
    "name": "ipython",
    "version": 3
   },
   "file_extension": ".py",
   "mimetype": "text/x-python",
   "name": "python",
   "nbconvert_exporter": "python",
   "pygments_lexer": "ipython3",
   "version": "3.6.4"
  }
 },
 "nbformat": 4,
 "nbformat_minor": 2
}
